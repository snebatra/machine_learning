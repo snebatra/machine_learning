import tensorflow as tf
from tensorflow import keras
import tensorflow_datasets as tfds
import matplotlib.pyplot as plt

ds_train=tfds.load(name="rock_paper_scissors",split="train")
ds_test=tfds.load(name="rock_paper_scissors",split="test")
import numpy as np
train_images=np.array([example['image'].numpy()[:,:,0] for example in ds_train])
train_label=np.array([example['label'].numpy() for example in ds_train])
test_label=np.array([example['label'].numpy() for example in ds_test])
test_images=np.array([example['image'].numpy()[:,:,0] for example in ds_test])
train_images=train_images.reshape(2520,300,300,1)
test_images=test_images.reshape(372, 300, 300,1)
train_images=train_images.astype('float32')
test_images=test_images.astype('float32')
train_images=train_images.reshape(2520,300,300,1)
test_images=test_images.reshape(372, 300, 300,1)
train_images=train_images.astype('float32')
test_images=test_images.astype('float32')
train_images=train_images/255
test_images=test_images/255
test_images[0].shape
import matplotlib.pyplot as plt
test_label[3]
from tensorflow.keras import datasets, layers, models
cnn = models.Sequential([
    layers.Conv2D(filters=32, kernel_size=(3, 3), activation='relu', padding='same' , input_shape=(300,300,1)), #suppose we detect eyes here
    layers.MaxPooling2D((2, 2)),
    
    layers.Conv2D(filters=32, kernel_size=(3, 3), activation='relu'), #we will detect the whole face here
    layers.MaxPooling2D((2, 2)),
    
    layers.Flatten(),
    layers.Dense(64, activation='relu'),
    layers.Dense(3, activation='softmax')
])
cnn.compile(optimizer='adam',
              loss='sparse_categorical_crossentropy',
              metrics=['accuracy'])
cnn.fit(train_images,train_label,epochs=5,batch_size=32)
cnn.evaluate(test_images,test_label)
